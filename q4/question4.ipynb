{
 "cells": [
  {
   "cell_type": "code",
   "execution_count": 1,
   "id": "acda2fd1",
   "metadata": {},
   "outputs": [
    {
     "name": "stdout",
     "output_type": "stream",
     "text": [
      "0 의 결과 :  1\n",
      "2 의 결과 :  2\n",
      "4 의 결과 :  24\n",
      "6 의 결과 :  720\n",
      "8 의 결과 :  40320\n",
      "10 의 결과 :  3628800\n",
      "12 의 결과 :  479001600\n",
      "14 의 결과 :  87178291200\n"
     ]
    }
   ],
   "source": [
    "def main():\n",
    "    #a = int(input(\"숫자를 입력 하세요 : \"))\n",
    "    #b = factorial(a)\n",
    "    #a = 0\n",
    "    for i in range(0,15):\n",
    "        if i%2 ==0:\n",
    "            print(i,\"의 결과 : \",factorial(i))\n",
    "        \n",
    "def factorial(n):\n",
    "    if n ==1 or n ==0:\n",
    "        return 1\n",
    "    return n * factorial(n-1)\n",
    "    \n",
    "    \n",
    "if __name__ == \"__main__\":\n",
    "    main()"
   ]
  },
  {
   "cell_type": "code",
   "execution_count": null,
   "id": "e0733131",
   "metadata": {},
   "outputs": [],
   "source": []
  }
 ],
 "metadata": {
  "kernelspec": {
   "display_name": "Python 3 (ipykernel)",
   "language": "python",
   "name": "python3"
  },
  "language_info": {
   "codemirror_mode": {
    "name": "ipython",
    "version": 3
   },
   "file_extension": ".py",
   "mimetype": "text/x-python",
   "name": "python",
   "nbconvert_exporter": "python",
   "pygments_lexer": "ipython3",
   "version": "3.9.13"
  }
 },
 "nbformat": 4,
 "nbformat_minor": 5
}
