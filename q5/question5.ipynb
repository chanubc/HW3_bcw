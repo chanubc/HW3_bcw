{
 "cells": [
  {
   "cell_type": "code",
   "execution_count": 4,
   "id": "3b5519eb",
   "metadata": {},
   "outputs": [
    {
     "name": "stdout",
     "output_type": "stream",
     "text": [
      "1. 원본 :\n",
      " Two roads diverged in a yellow wood, And sorry I could not travel both And be one traveler, long I stood And looked down one as far as I could To where it bent in the undergrowth; \n",
      "\n",
      "1. 수정본 :\n",
      " undergrowth; the in bent it where To could I as far as one down looked And stood I long traveler, one be And both travel not could I sorry And wood, yellow a in diverged roads Two\n",
      "\n",
      "\n",
      "2. 원본 :\n",
      " Then took the other, as just as fair, And having perhaps the better claim, Because it was grassy and wanted wear; Though as for that the passing there Had worn them really about the same, \n",
      "\n",
      "2. 수정본 :\n",
      " same, the about really them worn Had there passing the that for as Though wear; wanted and grassy was it Because claim, better the perhaps having And fair, as just as other, the took Then\n",
      "\n",
      "\n"
     ]
    }
   ],
   "source": [
    "def main():\n",
    "    reverse_words()\n",
    "    \n",
    "def reverse_words():\n",
    "    a = \"Two roads diverged in a yellow wood, And sorry I could not travel both And be one traveler, long I stood And looked down one as far as I could To where it bent in the undergrowth;\"\n",
    "    b = \"Then took the other, as just as fair, And having perhaps the better claim, Because it was grassy and wanted wear; Though as for that the passing there Had worn them really about the same,\"\n",
    "    a_list = a.split()\n",
    "    a_list = a_list[::-1]\n",
    "    a_list = ' '.join(a_list)\n",
    "    \n",
    "    b_list = b.split()\n",
    "    b_list = b_list[::-1]\n",
    "    b_list = ' '.join(b_list)\n",
    "    \n",
    "    print(\"1. 원본 :\\n\", a, \"\\n\")\n",
    "    print(\"1. 수정본 :\\n\",a_list)\n",
    "    print(\"\\n\")\n",
    "    \n",
    "    print(\"2. 원본 :\\n\",b, \"\\n\")\n",
    "    print(\"2. 수정본 :\\n\", b_list)\n",
    "    print(\"\\n\")\n",
    "    \n",
    "if __name__ == \"__main__\":\n",
    "    main()\n"
   ]
  },
  {
   "cell_type": "code",
   "execution_count": null,
   "id": "d9957096",
   "metadata": {},
   "outputs": [],
   "source": []
  }
 ],
 "metadata": {
  "kernelspec": {
   "display_name": "Python 3 (ipykernel)",
   "language": "python",
   "name": "python3"
  },
  "language_info": {
   "codemirror_mode": {
    "name": "ipython",
    "version": 3
   },
   "file_extension": ".py",
   "mimetype": "text/x-python",
   "name": "python",
   "nbconvert_exporter": "python",
   "pygments_lexer": "ipython3",
   "version": "3.9.13"
  }
 },
 "nbformat": 4,
 "nbformat_minor": 5
}
